{
 "cells": [
  {
   "cell_type": "code",
   "execution_count": null,
   "metadata": {},
   "outputs": [],
   "source": [
    "# Program to determine costs from actuals (FDS) and orders (FourthShift)\n",
    "\n",
    "import pandas as pd\n",
    "import numpy as np\n",
    "\n",
    "localpath = r\"C:\\Users\\kashir\\Documents\\SnOP\\00_Model\"\n",
    "local_order_file = r'\\FS_Orders.xls'\n",
    "fs_orders_file = localpath + local_order_file\n",
    "\n",
    "# Lookup file\n",
    "lookups_file = localpath + '\\SnOP Lookups.xlsx'\n",
    "lookups_xls = pd.ExcelFile(lookups_file)\n",
    "\n",
    "#... actuals dataframe\n",
    "#_____________________\n",
    "\n",
    "actuals_file = localpath + '\\Actuals.xlsx'\n",
    "df_actuals = pd.read_excel(actuals_file, 'Actuals', skiprows=4, header=0)\n",
    "df_actuals.By = pd.to_datetime(df_actuals.By).dt.date\n",
    "\n",
    "df_actuals.DataType = df_actuals.assign(DataType='Actual') # Change from EstSales\n",
    "\n",
    "#... filter products only in the TLAs\n",
    "df_prodref = pd.read_excel(lookups_xls, 'ProductRef', header=0, skiprows=4)\n",
    "\n",
    "#...get the ams and integrate with actuals\n",
    "df_am = pd.read_excel(lookups_xls, 'AM_names', header=0).drop_duplicates('AM Code').set_index('AM Code')"
   ]
  },
  {
   "cell_type": "code",
   "execution_count": 146,
   "metadata": {},
   "outputs": [],
   "source": [
    "df_cost = df_actuals.set_index('AM')\n",
    "df_cost = df_cost.merge(df_am, left_index=True, right_index=True)\n",
    "df_cost = df_cost.reset_index(drop=True).rename(columns={'AM Name': 'AM'})"
   ]
  },
  {
   "cell_type": "code",
   "execution_count": 148,
   "metadata": {},
   "outputs": [],
   "source": [
    "#...get unit costs\n",
    "df_cost = df_cost.assign(TLA=df_cost.ProductID.str.slice(0,3))\n",
    "\n",
    "# keep only TLAs from the product reference\n",
    "df_cost1 = df_cost[df_cost.TLA.isin(df_prodref.TLA)]\n",
    "\n",
    "# keep only positive quantities\n",
    "df_cost1 = df_cost1[df_cost1.Qty > 0]\n",
    "\n",
    "# remove unnecessary rows from ProductID\n",
    "x_prod = ['SAM', 'CAPSULE', 'INNER']\n",
    "df_cost1 = df_cost1[~df_cost1.ProductID.str.contains('|'.join(x_prod))]\n",
    "\n",
    "# remove Qty = 0\n",
    "df_cost1 = df_cost1[df_cost1.Qty != 0.0]\n",
    "\n",
    "df_cost1 = df_cost1.assign(uGBPValK= df_cost1.GBPValue/df_cost1.Qty*1000)\n",
    "df_cost1 = df_cost1.assign(uGBPCostK= df_cost1.StdGBPCost/df_cost1.Qty*1000)\n",
    "df_cost1 = df_cost1.assign(uMaterialK= df_cost1.Material/df_cost1.Qty*1000)\n",
    "df_cost1 = df_cost1.assign(uLabourK= df_cost1.Labour/df_cost1.Qty*1000)\n",
    "df_cost1 = df_cost1.assign(uVarohK= df_cost1.VarOH/df_cost1.Qty*1000)\n",
    "df_cost1 = df_cost1.assign(uFixedohK= df_cost1.FixedOH/df_cost1.Qty*1000)\n",
    "\n",
    "# Compute the margin\n",
    "df_cost1 = df_cost1.assign(uMargin=(df_cost1.GBPValue - df_cost1.StdGBPCost)/df_cost1.GBPValue)\n",
    "\n",
    "# Remove margin = inf (i.e. StdGBPCost = 0) data\n",
    "df_cost1 = df_cost1.replace([np.inf, -np.inf], np.nan).dropna(subset=['uMargin'], how='all').reset_index(drop=True)\n",
    "\n",
    "df_cost1.to_csv(path_or_buf=localpath+'\\_costing.csv', index=None)"
   ]
  },
  {
   "cell_type": "code",
   "execution_count": null,
   "metadata": {},
   "outputs": [],
   "source": [
    "#... get the most recent costs\n",
    "df_last_tla = df_cost1.set_index('By', 'Site', 'TLA').sort_index().drop_duplicates(['Site', 'TLA'], keep='last').reset_index(drop=True)\n",
    "df_last_product = df_cost1.set_index('By', 'Site', 'ProductID').sort_index().drop_duplicates(['Site', 'ProductID'], keep='last').reset_index(drop=True)"
   ]
  },
  {
   "cell_type": "code",
   "execution_count": null,
   "metadata": {},
   "outputs": [],
   "source": [
    "df_last_tla.set_index(['TLA', 'Site']).sort_index()"
   ]
  },
  {
   "cell_type": "code",
   "execution_count": null,
   "metadata": {},
   "outputs": [],
   "source": []
  }
 ],
 "metadata": {
  "kernelspec": {
   "display_name": "Python 3",
   "language": "python",
   "name": "python3"
  },
  "language_info": {
   "codemirror_mode": {
    "name": "ipython",
    "version": 3
   },
   "file_extension": ".py",
   "mimetype": "text/x-python",
   "name": "python",
   "nbconvert_exporter": "python",
   "pygments_lexer": "ipython3",
   "version": "3.7.1"
  }
 },
 "nbformat": 4,
 "nbformat_minor": 2
}
